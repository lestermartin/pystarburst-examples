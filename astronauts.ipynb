{
 "cells": [
  {
   "cell_type": "markdown",
   "metadata": {},
   "source": [
    "## Simple space mission analysis with PyStarburst and Galaxy"
   ]
  },
  {
   "cell_type": "markdown",
   "metadata": {},
   "source": [
    "### Prepare the environment\n",
    "\n",
    "First run the following in your terminal\n",
    "\n",
    "`$ python -m venv venv`\n",
    "\n",
    "`$ source venv\\bin\\activate`\n",
    "\n",
    "In addition, you'll need a [Starburst Galaxy](\"https://www.starburst.io/platform/starburst-galaxy/start/\") account with a sample catalog [setup](\"https://docs.starburst.io/starburst-galaxy/catalogs/sample.html\") alongside a writeable catalog for storing the results."
   ]
  },
  {
   "cell_type": "code",
   "execution_count": 73,
   "metadata": {},
   "outputs": [
    {
     "name": "stdout",
     "output_type": "stream",
     "text": [
      "Collecting pystarburst==0.5.0\n",
      "  Using cached https://starburstdata-downloads.s3.amazonaws.com/pystarburst/0.5.0/pystarburst-0.5.0-py3-none-any.whl (121 kB)\n",
      "Requirement already satisfied: psutil<6.0.0,>=5.9.5 in ./.venv/lib/python3.11/site-packages (from pystarburst==0.5.0) (5.9.5)\n",
      "Requirement already satisfied: pydantic<2.0.0,>=1.10.10 in ./.venv/lib/python3.11/site-packages (from pystarburst==0.5.0) (1.10.12)\n",
      "Requirement already satisfied: python-dateutil<3.0.0,>=2.8.2 in ./.venv/lib/python3.11/site-packages (from pystarburst==0.5.0) (2.8.2)\n",
      "Requirement already satisfied: trino<0.327.0,>=0.326.0 in ./.venv/lib/python3.11/site-packages (from pystarburst==0.5.0) (0.326.0)\n",
      "Requirement already satisfied: typing-extensions<5.0.0,>=4.7.1 in ./.venv/lib/python3.11/site-packages (from pystarburst==0.5.0) (4.7.1)\n",
      "Requirement already satisfied: six>=1.5 in ./.venv/lib/python3.11/site-packages (from python-dateutil<3.0.0,>=2.8.2->pystarburst==0.5.0) (1.16.0)\n",
      "Requirement already satisfied: pytz in ./.venv/lib/python3.11/site-packages (from trino<0.327.0,>=0.326.0->pystarburst==0.5.0) (2023.3.post1)\n",
      "Requirement already satisfied: requests>=2.31.0 in ./.venv/lib/python3.11/site-packages (from trino<0.327.0,>=0.326.0->pystarburst==0.5.0) (2.31.0)\n",
      "Requirement already satisfied: tzlocal in ./.venv/lib/python3.11/site-packages (from trino<0.327.0,>=0.326.0->pystarburst==0.5.0) (5.0.1)\n",
      "Requirement already satisfied: charset-normalizer<4,>=2 in ./.venv/lib/python3.11/site-packages (from requests>=2.31.0->trino<0.327.0,>=0.326.0->pystarburst==0.5.0) (3.2.0)\n",
      "Requirement already satisfied: idna<4,>=2.5 in ./.venv/lib/python3.11/site-packages (from requests>=2.31.0->trino<0.327.0,>=0.326.0->pystarburst==0.5.0) (3.4)\n",
      "Requirement already satisfied: urllib3<3,>=1.21.1 in ./.venv/lib/python3.11/site-packages (from requests>=2.31.0->trino<0.327.0,>=0.326.0->pystarburst==0.5.0) (2.0.4)\n",
      "Requirement already satisfied: certifi>=2017.4.17 in ./.venv/lib/python3.11/site-packages (from requests>=2.31.0->trino<0.327.0,>=0.326.0->pystarburst==0.5.0) (2023.7.22)\n",
      "Note: you may need to restart the kernel to use updated packages.\n"
     ]
    }
   ],
   "source": [
    "# Install the library\n",
    "\n",
    "%pip install https://starburstdata-downloads.s3.amazonaws.com/pystarburst/0.5.0/pystarburst-0.5.0-py3-none-any.whl"
   ]
  },
  {
   "cell_type": "code",
   "execution_count": 74,
   "metadata": {},
   "outputs": [],
   "source": [
    "# Import dependencies\n",
    "\n",
    "from pystarburst import Session\n",
    "from pystarburst import functions as f\n",
    "from pystarburst.functions import col\n",
    "\n",
    "import trino\n",
    "\n",
    "# Define Connection Properties\n",
    "# You can get the host and other information from the Partner Connect -> PyStarburst section in Galaxy\n",
    "\n",
    "session_properties = {\n",
    "    \"user\": \"alex.breshears@starburstdata.com\",\n",
    "    \"host\": \"monicamillersbdemo-sample.trino.galaxy.starburst.io\",\n",
    "    \"port\": 443,\n",
    "    # Needed for https secured clusters\n",
    "    \"http_scheme\": \"https\",\n",
    "    # Setup authentication through login or password or any other supported authentication methods\n",
    "    # See docs: https://github.com/trinodb/trino-python-client#authentication-mechanisms\n",
    "    \"auth\": trino.auth.BasicAuthentication(\"alex.breshears@starburstdata.com/accountadmin\", \"HGZpwCYUC36yGZh\")\n",
    "}\n",
    "\n",
    "session = Session.builder.configs(session_properties).create()"
   ]
  },
  {
   "cell_type": "code",
   "execution_count": 75,
   "metadata": {},
   "outputs": [
    {
     "data": {
      "text/plain": [
       "[Row(b=1)]"
      ]
     },
     "execution_count": 75,
     "metadata": {},
     "output_type": "execute_result"
    }
   ],
   "source": [
    "# Validate connectivity to the cluster\n",
    "\n",
    "session.sql(\"select 1 as b\").collect()"
   ]
  },
  {
   "cell_type": "code",
   "execution_count": 76,
   "metadata": {},
   "outputs": [
    {
     "name": "stdout",
     "output_type": "stream",
     "text": [
      "StructType([StructField('id', IntegerType(), nullable=True), StructField('company_name', StringType(), nullable=True), StructField('location', StringType(), nullable=True), StructField('date', StringType(), nullable=True), StructField('detail', StringType(), nullable=True), StructField('status_rocket', StringType(), nullable=True), StructField('cost', DoubleType(), nullable=True), StructField('status_mission', StringType(), nullable=True)])\n",
      "--------------------------------------------------------------------------------------------------------------------------------------------------------------------------------------------------------------\n",
      "|\"id\"  |\"company_name\"  |\"location\"                                          |\"date\"                      |\"detail\"                                            |\"status_rocket\"  |\"cost\"  |\"status_mission\"  |\n",
      "--------------------------------------------------------------------------------------------------------------------------------------------------------------------------------------------------------------\n",
      "|0     |SpaceX          |LC-39A, Kennedy Space Center, Florida, USA          |Fri Aug 07, 2020 05:12 UTC  |Falcon 9 Block 5 | Starlink V1 L9 & BlackSky        |StatusActive     |50.0    |Success           |\n",
      "|1     |CASC            |Site 9401 (SLS-2), Jiuquan Satellite Launch Cen...  |Thu Aug 06, 2020 04:01 UTC  |Long March 2D | Gaofen-9 04 & Q-SAT                 |StatusActive     |29.75   |Success           |\n",
      "|2     |SpaceX          |Pad A, Boca Chica, Texas, USA                       |Tue Aug 04, 2020 23:57 UTC  |Starship Prototype | 150 Meter Hop                  |StatusActive     |NULL    |Success           |\n",
      "|3     |Roscosmos       |Site 200/39, Baikonur Cosmodrome, Kazakhstan        |Thu Jul 30, 2020 21:25 UTC  |Proton-M/Briz-M | Ekspress-80 & Ekspress-103        |StatusActive     |65.0    |Success           |\n",
      "|4     |ULA             |SLC-41, Cape Canaveral AFS, Florida, USA            |Thu Jul 30, 2020 11:50 UTC  |Atlas V 541 | Perseverance                          |StatusActive     |145.0   |Success           |\n",
      "|5     |CASC            |LC-9, Taiyuan Satellite Launch Center, China        |Sat Jul 25, 2020 03:13 UTC  |Long March 4B | Ziyuan-3 03, Apocalypse-10 & NJ...  |StatusActive     |64.68   |Success           |\n",
      "|6     |Roscosmos       |Site 31/6, Baikonur Cosmodrome, Kazakhstan          |Thu Jul 23, 2020 14:26 UTC  |Soyuz 2.1a | Progress MS-15                         |StatusActive     |48.5    |Success           |\n",
      "|7     |CASC            |LC-101, Wenchang Satellite Launch Center, China     |Thu Jul 23, 2020 04:41 UTC  |Long March 5 | Tianwen-1                            |StatusActive     |NULL    |Success           |\n",
      "|8     |SpaceX          |SLC-40, Cape Canaveral AFS, Florida, USA            |Mon Jul 20, 2020 21:30 UTC  |Falcon 9 Block 5 | ANASIS-II                        |StatusActive     |50.0    |Success           |\n",
      "|9     |JAXA            |LA-Y1, Tanegashima Space Center, Japan              |Sun Jul 19, 2020 21:58 UTC  |H-IIA 202 | Hope Mars Mission                       |StatusActive     |90.0    |Success           |\n",
      "--------------------------------------------------------------------------------------------------------------------------------------------------------------------------------------------------------------\n",
      "\n",
      "-----------------------------------------------------------------------------------------------------------------------------------------------------------------------------------------------------------------------\n",
      "|\"summary\"  |\"id\"                |\"company_name\"  |\"location\"                                       |\"date\"                      |\"detail\"                  |\"status_rocket\"  |\"cost\"              |\"status_mission\"  |\n",
      "-----------------------------------------------------------------------------------------------------------------------------------------------------------------------------------------------------------------------\n",
      "|count      |4324.0              |4324            |4324                                             |4324                        |4324                      |4324             |949.0               |4324              |\n",
      "|mean       |2161.5              |NULL            |NULL                                             |NULL                        |NULL                      |NULL             |129.79523709167552  |NULL              |\n",
      "|stddev     |1248.3756112110916  |NULL            |NULL                                             |NULL                        |NULL                      |NULL             |143.2203233531596   |NULL              |\n",
      "|min        |0.0                 |AEB             |Blue Origin Launch Site, West Texas, Texas, USA  |Fri Apr 01, 1960 11:40 UTC  |ASLV | SROSS C            |StatusActive     |5.3                 |Failure           |\n",
      "|max        |4323.0              |i-Space         |Xichang Satellite Launch Center, China           |Wed Sep 30, 2015 20:30 UTC  |ZhuQue-1 | CCTV Future-1  |StatusRetired    |450.0               |Success           |\n",
      "-----------------------------------------------------------------------------------------------------------------------------------------------------------------------------------------------------------------------\n",
      "\n"
     ]
    }
   ],
   "source": [
    "#\n",
    "# Let's now understand our datasets\n",
    "#\n",
    "\n",
    "session.sql(\"SHOW CATALOGS\").collect()\n",
    "\n",
    "# We'll use the \"sample\" catalog for this example\n",
    "\n",
    "# List out schemas\n",
    "session.sql(\"SHOW SCHEMAS FROM sample\").collect()\n",
    "session.sql(\"USE sample.demo\").collect()\n",
    "\n",
    "# List our tables\n",
    "session.sql(\"SHOW TABLES\").collect()\n",
    "\n",
    "df_missions = session.table(\"sample.demo.missions\")\n",
    "\n",
    "print(df_missions.schema)\n",
    "df_missions.show()\n",
    "\n",
    "df_missions.describe().show()\n"
   ]
  },
  {
   "cell_type": "code",
   "execution_count": 77,
   "metadata": {},
   "outputs": [
    {
     "name": "stdout",
     "output_type": "stream",
     "text": [
      "StructType([StructField('id', IntegerType(), nullable=True), StructField('company_name', StringType(), nullable=True), StructField('location', StringType(), nullable=True), StructField('detail', StringType(), nullable=True), StructField('status_rocket', StringType(), nullable=True), StructField('cost', DoubleType(), nullable=True), StructField('status_mission', StringType(), nullable=True), StructField('date', TimestampNTZType(), nullable=True)])\n",
      "------------------------------------------------------------------------------------------------------------------------------------------------------------------------------------\n",
      "|\"id\"  |\"company_name\"  |\"location\"                                         |\"detail\"                          |\"status_rocket\"  |\"cost\"  |\"status_mission\"  |\"date\"               |\n",
      "------------------------------------------------------------------------------------------------------------------------------------------------------------------------------------\n",
      "|1213  |Lockheed        |SLC-36A, Cape Canaveral AFS, Florida, USA          |Atlas IIA | DSCS IIIB-8           |StatusRetired    |NULL    |Success           |2000-01-21 01:03:00  |\n",
      "|1212  |Arianespace     |ELA-2, Guiana Space Centre, French Guiana, France  |Ariane 42L | Galaxy 10R           |StatusRetired    |NULL    |Success           |2000-01-25 01:04:00  |\n",
      "|1211  |CASC            |LC-2, Xichang Satellite Launch Center, China       |Long March 3A | ChinaSat-22       |StatusActive     |69.7    |Success           |2000-01-25 16:45:00  |\n",
      "|1210  |Northrop        |SLC-8, Vandenberg AFB, California, USA             |Minotaur I | JAWSat               |StatusActive     |40.0    |Success           |2000-01-27 03:03:00  |\n",
      "|1209  |ILS             |SLC-36B, Cape Canaveral AFS, Florida, USA          |Atlas IIAS | Hispasat 1C          |StatusRetired    |NULL    |Success           |2000-02-03 23:30:00  |\n",
      "|1208  |Boeing          |SLC-17B, Cape Canaveral AFS, Florida, USA          |Delta II 7920-10C | Globalstar 7  |StatusRetired    |NULL    |Success           |2000-02-08 21:24:00  |\n",
      "|1207  |ISAS            |Mu Pad, Uchinoura Space Center, Japan              |Mu-V / M-24 | Astro E             |StatusRetired    |NULL    |Failure           |2000-02-10 01:30:00  |\n",
      "|1206  |NASA            |LC-39A, Kennedy Space Center, Florida, USA         |Space Shuttle Endeavour | STS-99  |StatusRetired    |450.0   |Success           |2000-02-11 16:43:00  |\n",
      "|1205  |Arianespace     |ELA-2, Guiana Space Centre, French Guiana, France  |Ariane 44LP | Superbird 4         |StatusRetired    |NULL    |Success           |2000-02-18 01:04:00  |\n",
      "|1204  |VKS RF          |Site 45/1, Baikonur Cosmodrome, Kazakhstan         |Zenit-2 | Cosmos 2369             |StatusRetired    |NULL    |Success           |2000-03-02 09:26:00  |\n",
      "------------------------------------------------------------------------------------------------------------------------------------------------------------------------------------\n",
      "\n"
     ]
    }
   ],
   "source": [
    "#\n",
    "# There's some data clean up needed - plus we want to only look at missions since the year 2000\n",
    "#\n",
    "\n",
    "import datetime\n",
    "\n",
    "df_missions = session.table(\"sample.demo.missions\")\n",
    "\n",
    "# We can add abritray SQL expressions as needed\n",
    "df_missions = df_missions.with_column(\"date\", f.sql_expr(\"COALESCE(TRY(date_parse(\\\"date\\\", '%a %b %d, %Y %H:%i UTC')), NULL)\"))\n",
    "\n",
    "print(df_missions.schema)\n",
    "\n",
    "df_missions = df_missions.filter(col(\"date\") > f.lit(datetime.datetime.strptime(\"01/01/2000\", \"%m/%d/%Y\")))\n",
    "df_missions = df_missions.sort(col(\"date\"), ascending=True)\n",
    "\n",
    "df_missions.show()\n"
   ]
  },
  {
   "cell_type": "code",
   "execution_count": 78,
   "metadata": {},
   "outputs": [
    {
     "name": "stdout",
     "output_type": "stream",
     "text": [
      "-----------------------------------\n",
      "|\"company_name\"  |\"num_missions\"  |\n",
      "-----------------------------------\n",
      "|CASC            |179             |\n",
      "|Arianespace     |166             |\n",
      "|ULA             |140             |\n",
      "|SpaceX          |100             |\n",
      "|VKS RF          |97              |\n",
      "|ISRO            |62              |\n",
      "|Roscosmos       |54              |\n",
      "|Northrop        |51              |\n",
      "|MHI             |50              |\n",
      "|Boeing          |46              |\n",
      "|NASA            |40              |\n",
      "|Sea Launch      |32              |\n",
      "|Lockheed        |30              |\n",
      "|ILS             |24              |\n",
      "|Kosmotras       |20              |\n",
      "|Eurockot        |13              |\n",
      "|Rocket Lab      |13              |\n",
      "|ExPace          |10              |\n",
      "|Blue Origin     |7               |\n",
      "|JAXA            |7               |\n",
      "|Land Launch     |7               |\n",
      "|ISAS            |5               |\n",
      "|KCST            |4               |\n",
      "|Exos            |4               |\n",
      "|MITT            |3               |\n",
      "|CASIC           |3               |\n",
      "|KARI            |3               |\n",
      "|IAI             |2               |\n",
      "|SRC             |2               |\n",
      "|ISA             |2               |\n",
      "|i-Space         |1               |\n",
      "|ESA             |1               |\n",
      "|Virgin Orbit    |1               |\n",
      "|OneSpace        |1               |\n",
      "|IRGC            |1               |\n",
      "|Khrunichev      |1               |\n",
      "|Starsem         |1               |\n",
      "|Landspace       |1               |\n",
      "-----------------------------------\n",
      "\n"
     ]
    }
   ],
   "source": [
    "#\n",
    "# Next we'll do a basic aggergation for summarization\n",
    "#\n",
    "\n",
    "df_summarized = df_missions.group_by(\"company_name\").agg(col(\"*\"), \"count\").rename(\"count(1)\", \"num_missions\")\n",
    "df_summarized = df_summarized.sort(col(\"num_missions\").desc())\n",
    "df_summarized.show(n=100)"
   ]
  },
  {
   "cell_type": "code",
   "execution_count": 79,
   "metadata": {},
   "outputs": [
    {
     "name": "stdout",
     "output_type": "stream",
     "text": [
      "-----------------------------------\n",
      "|\"company_name\"  |\"num_missions\"  |\n",
      "-----------------------------------\n",
      "|SpaceX          |100             |\n",
      "|ULA             |140             |\n",
      "|JAXA            |7               |\n",
      "|Northrop        |51              |\n",
      "|IAI             |2               |\n",
      "|Rocket Lab      |13              |\n",
      "|MHI             |50              |\n",
      "|ISA             |2               |\n",
      "|Blue Origin     |7               |\n",
      "|Exos            |4               |\n",
      "-----------------------------------\n",
      "\n"
     ]
    }
   ],
   "source": [
    "#\n",
    "# Finally, let's write the table to our data lake\n",
    "#\n",
    "\n",
    "session.sql(\"CREATE SCHEMA IF NOT EXISTS use_for_general_aws.pystarburst_mis_sum\").collect()\n",
    "\n",
    "session.sql(\"DROP TABLE IF EXISTS use_for_general_aws.pystarburst_mis_sum.missions_summary\").collect()\n",
    "\n",
    "df_summarized.write.save_as_table(\n",
    "    \"use_for_general_aws.pystarburst_mis_sum.missions_summary\",\n",
    ")\n",
    "\n",
    "df_validation = session.table(\"use_for_general_aws.pystarburst_mis_sum.missions_summary\").show()"
   ]
  }
 ],
 "metadata": {
  "kernelspec": {
   "display_name": ".venv",
   "language": "python",
   "name": "python3"
  },
  "language_info": {
   "codemirror_mode": {
    "name": "ipython",
    "version": 3
   },
   "file_extension": ".py",
   "mimetype": "text/x-python",
   "name": "python",
   "nbconvert_exporter": "python",
   "pygments_lexer": "ipython3",
   "version": "3.11.3"
  },
  "orig_nbformat": 4
 },
 "nbformat": 4,
 "nbformat_minor": 2
}
